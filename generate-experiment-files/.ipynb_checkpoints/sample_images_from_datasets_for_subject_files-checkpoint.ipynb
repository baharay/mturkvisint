{
 "cells": [
  {
   "cell_type": "code",
   "execution_count": 10,
   "metadata": {},
   "outputs": [],
   "source": [
    "import os\n",
    "import glob\n",
    "import random\n",
    "from shutil import copyfile"
   ]
  },
  {
   "cell_type": "code",
   "execution_count": 3,
   "metadata": {},
   "outputs": [],
   "source": [
    "sourcedir = '../../attention-code-charts-eyetracking-datasets/Selection/saliency-in-crowd-master/data/stimuli/'"
   ]
  },
  {
   "cell_type": "code",
   "execution_count": 4,
   "metadata": {},
   "outputs": [],
   "source": [
    "allfiles = []\n",
    "for ext in ('*.jpeg', '*.png', '*.jpg'):\n",
    "    allfiles.extend(glob.glob(os.path.join(sourcedir, ext)))"
   ]
  },
  {
   "cell_type": "code",
   "execution_count": 5,
   "metadata": {},
   "outputs": [
    {
     "data": {
      "text/plain": [
       "500"
      ]
     },
     "execution_count": 5,
     "metadata": {},
     "output_type": "execute_result"
    }
   ],
   "source": [
    "len(allfiles)"
   ]
  },
  {
   "cell_type": "code",
   "execution_count": 8,
   "metadata": {},
   "outputs": [
    {
     "name": "stdout",
     "output_type": "stream",
     "text": [
      "../../attention-code-charts-eyetracking-datasets/Selection/saliency-in-crowd-master/data/stimuli/189.jpg\n",
      "../../attention-code-charts-eyetracking-datasets/Selection/saliency-in-crowd-master/data/stimuli/495.jpg\n"
     ]
    }
   ],
   "source": [
    "print(allfiles[0])\n",
    "random.shuffle(allfiles)\n",
    "print(allfiles[0])"
   ]
  },
  {
   "cell_type": "code",
   "execution_count": 9,
   "metadata": {},
   "outputs": [],
   "source": [
    "newdirname = '../../attention-code-charts-eyetracking-datasets/Selection/saliency-in-crowd-master/selected100'\n",
    "os.makedirs(newdirname)"
   ]
  },
  {
   "cell_type": "code",
   "execution_count": 12,
   "metadata": {},
   "outputs": [],
   "source": [
    "for i in range(100):\n",
    "    copyfile(allfiles[i], os.path.join(newdirname,os.path.basename(allfiles[i])))"
   ]
  },
  {
   "cell_type": "code",
   "execution_count": 1,
   "metadata": {},
   "outputs": [],
   "source": [
    "sourcedir = '../../attention-code-charts-eyetracking-datasets/Stanford40Actions/'\n",
    "imgdir = os.path.join(sourcedir,'JPEGImages')"
   ]
  },
  {
   "cell_type": "code",
   "execution_count": null,
   "metadata": {},
   "outputs": [],
   "source": [
    "stanforactiondir = 'Stanford'\n",
    "curtxtfiles = ['writing_on_a_board_train.txt','writing_on_a_book_train.txt']"
   ]
  },
  {
   "cell_type": "code",
   "execution_count": 13,
   "metadata": {},
   "outputs": [],
   "source": [
    "newdir = '../../attention-code-charts-eyetracking-datasets/Selection/Combined'\n",
    "os.makedirs(newdir)"
   ]
  },
  {
   "cell_type": "code",
   "execution_count": 16,
   "metadata": {},
   "outputs": [
    {
     "name": "stdout",
     "output_type": "stream",
     "text": [
      "Copied 100/100 files from ../../attention-code-charts-eyetracking-datasets/Selection/CAT2000trainSet/Action to ../../attention-code-charts-eyetracking-datasets/Selection/Combined with name containing CAT2000Actions\n",
      "Copied 100/100 files from ../../attention-code-charts-eyetracking-datasets/Selection/selection_out_of_context to ../../attention-code-charts-eyetracking-datasets/Selection/Combined with name containing OOC\n",
      "Copied 100/100 files from ../../attention-code-charts-eyetracking-datasets/Selection/saliency-in-crowd-master/selected100 to ../../attention-code-charts-eyetracking-datasets/Selection/Combined with name containing Crowd\n"
     ]
    }
   ],
   "source": [
    "sourcedirs = ['../../attention-code-charts-eyetracking-datasets/Selection/CAT2000trainSet/Action',\\\n",
    "              '../../attention-code-charts-eyetracking-datasets/Selection/selection_out_of_context',\\\n",
    "              '../../attention-code-charts-eyetracking-datasets/Selection/saliency-in-crowd-master/selected100']\n",
    "sourcedirs_names = ['CAT2000Actions','OOC','Crowd']\n",
    "\n",
    "\n",
    "for j in range(len(sourcedirs)):\n",
    "    sourcedir = sourcedirs[j]\n",
    "    filesorig = 0\n",
    "    filescopied = 0\n",
    "    for ext in ('*.jpeg', '*.png', '*.jpg'):\n",
    "        curfiles = glob.glob(os.path.join(sourcedir, ext))\n",
    "        filesorig += len(curfiles)\n",
    "        for file in curfiles:\n",
    "            newfilename = sourcedirs_names[j]+'_'+os.path.basename(file)\n",
    "            copyfile(file,os.path.join(newdir,newfilename))\n",
    "        curfiles2 = glob.glob(os.path.join(newdir, '*'+sourcedirs_names[j]+ext))\n",
    "        filescopied += len(curfiles2)\n",
    "    print('Copied %d/%d files from %s to %s with name containing %s'%(filescopied,filesorig,\\\n",
    "                                                                      sourcedir,newdir,sourcedirs_names[j]))\n",
    "            \n",
    "    "
   ]
  },
  {
   "cell_type": "code",
   "execution_count": null,
   "metadata": {},
   "outputs": [],
   "source": []
  }
 ],
 "metadata": {
  "kernelspec": {
   "display_name": "Python 3",
   "language": "python",
   "name": "python3"
  },
  "language_info": {
   "codemirror_mode": {
    "name": "ipython",
    "version": 3
   },
   "file_extension": ".py",
   "mimetype": "text/x-python",
   "name": "python",
   "nbconvert_exporter": "python",
   "pygments_lexer": "ipython3",
   "version": "3.7.2"
  }
 },
 "nbformat": 4,
 "nbformat_minor": 2
}
